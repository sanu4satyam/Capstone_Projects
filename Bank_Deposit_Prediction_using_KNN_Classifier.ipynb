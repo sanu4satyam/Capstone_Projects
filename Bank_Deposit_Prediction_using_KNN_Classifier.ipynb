{
  "cells": [
    {
      "cell_type": "markdown",
      "metadata": {
        "id": "view-in-github",
        "colab_type": "text"
      },
      "source": [
        "<a href=\"https://colab.research.google.com/github/sanu4satyam/Capstone_Projects/blob/main/Bank_Deposit_Prediction_using_KNN_Classifier.ipynb\" target=\"_parent\"><img src=\"https://colab.research.google.com/assets/colab-badge.svg\" alt=\"Open In Colab\"/></a>"
      ]
    },
    {
      "cell_type": "markdown",
      "source": [
        "### Importing All the Important Libraries"
      ],
      "metadata": {
        "id": "GynrI4CQYwY5"
      },
      "id": "GynrI4CQYwY5"
    },
    {
      "source": [
        "# Data manipulation imports\n",
        "import numpy as np\n",
        "import pandas as pd\n",
        "\n",
        "# Visualization imports\n",
        "import matplotlib.pyplot as plt\n",
        "import seaborn as sns\n",
        "\n",
        "# Modeling imports\n",
        "from sklearn.model_selection import train_test_split\n",
        "from sklearn.impute import SimpleImputer\n",
        "from sklearn.preprocessing import OneHotEncoder, StandardScaler\n",
        "from sklearn.compose import ColumnTransformer\n",
        "from sklearn.pipeline import Pipeline\n",
        "from sklearn.neighbors import KNeighborsClassifier\n",
        "from sklearn.metrics import accuracy_score, ConfusionMatrixDisplay"
      ],
      "metadata": {
        "executionTime": 3913,
        "lastSuccessfullyExecutedCode": "# Data manipulation imports\nimport numpy as np\nimport pandas as pd\n\n# Visualization imports\nimport matplotlib.pyplot as plt\nimport plotly.express as px\n\n# Modeling imports\nfrom sklearn.model_selection import train_test_split\nfrom sklearn.impute import SimpleImputer\nfrom sklearn.preprocessing import OneHotEncoder, StandardScaler\nfrom sklearn.compose import ColumnTransformer\nfrom sklearn.pipeline import Pipeline\nfrom sklearn.neighbors import KNeighborsClassifier\nfrom sklearn.metrics import accuracy_score, ConfusionMatrixDisplay",
        "id": "9fddb879-1929-418d-9346-c515b23c12b3"
      },
      "id": "9fddb879-1929-418d-9346-c515b23c12b3",
      "cell_type": "code",
      "execution_count": 1,
      "outputs": []
    },
    {
      "source": [
        "## Load and explore the data"
      ],
      "metadata": {
        "id": "941fde8d-0fb2-4094-ba32-ee3a2a3b39c1"
      },
      "id": "941fde8d-0fb2-4094-ba32-ee3a2a3b39c1",
      "cell_type": "markdown"
    },
    {
      "source": [
        "# Read the data as a DataFrame\n",
        "df= pd.read_csv(\"/content/bank.csv\")\n",
        "\n",
        "# Preview the DataFrame\n",
        "df.head()"
      ],
      "metadata": {
        "executionTime": 693,
        "lastSuccessfullyExecutedCode": "# Read the data as a DataFrame\ndf = pd.read_csv(\"bank.csv\")\n\n# Preview the DataFrame\ndf",
        "colab": {
          "base_uri": "https://localhost:8080/",
          "height": 206
        },
        "id": "b706ac6a-d010-4ed7-865f-80e092a4d2c0",
        "outputId": "a562f894-815b-4104-8360-37acd94420dd"
      },
      "id": "b706ac6a-d010-4ed7-865f-80e092a4d2c0",
      "cell_type": "code",
      "execution_count": 2,
      "outputs": [
        {
          "output_type": "execute_result",
          "data": {
            "text/plain": [
              "    age         job  marital  education default  balance housing loan  \\\n",
              "0   NaN      admin.  married  secondary      no      NaN     yes   no   \n",
              "1  56.0      admin.  married  secondary      no     45.0      no   no   \n",
              "2  41.0  technician  married  secondary      no   1270.0     yes   no   \n",
              "3  55.0    services  married  secondary      no      NaN     yes   no   \n",
              "4  54.0      admin.  married   tertiary      no    184.0      no   no   \n",
              "\n",
              "   contact month  duration poutcome deposit  \n",
              "0  unknown   may    1042.0  unknown     yes  \n",
              "1  unknown   may    1467.0  unknown     yes  \n",
              "2  unknown   may    1389.0  unknown     yes  \n",
              "3  unknown   may       NaN  unknown     yes  \n",
              "4  unknown   may     673.0  unknown     yes  "
            ],
            "text/html": [
              "\n",
              "  <div id=\"df-fb54cf4d-b19a-4746-875e-0124e7003796\">\n",
              "    <div class=\"colab-df-container\">\n",
              "      <div>\n",
              "<style scoped>\n",
              "    .dataframe tbody tr th:only-of-type {\n",
              "        vertical-align: middle;\n",
              "    }\n",
              "\n",
              "    .dataframe tbody tr th {\n",
              "        vertical-align: top;\n",
              "    }\n",
              "\n",
              "    .dataframe thead th {\n",
              "        text-align: right;\n",
              "    }\n",
              "</style>\n",
              "<table border=\"1\" class=\"dataframe\">\n",
              "  <thead>\n",
              "    <tr style=\"text-align: right;\">\n",
              "      <th></th>\n",
              "      <th>age</th>\n",
              "      <th>job</th>\n",
              "      <th>marital</th>\n",
              "      <th>education</th>\n",
              "      <th>default</th>\n",
              "      <th>balance</th>\n",
              "      <th>housing</th>\n",
              "      <th>loan</th>\n",
              "      <th>contact</th>\n",
              "      <th>month</th>\n",
              "      <th>duration</th>\n",
              "      <th>poutcome</th>\n",
              "      <th>deposit</th>\n",
              "    </tr>\n",
              "  </thead>\n",
              "  <tbody>\n",
              "    <tr>\n",
              "      <th>0</th>\n",
              "      <td>NaN</td>\n",
              "      <td>admin.</td>\n",
              "      <td>married</td>\n",
              "      <td>secondary</td>\n",
              "      <td>no</td>\n",
              "      <td>NaN</td>\n",
              "      <td>yes</td>\n",
              "      <td>no</td>\n",
              "      <td>unknown</td>\n",
              "      <td>may</td>\n",
              "      <td>1042.0</td>\n",
              "      <td>unknown</td>\n",
              "      <td>yes</td>\n",
              "    </tr>\n",
              "    <tr>\n",
              "      <th>1</th>\n",
              "      <td>56.0</td>\n",
              "      <td>admin.</td>\n",
              "      <td>married</td>\n",
              "      <td>secondary</td>\n",
              "      <td>no</td>\n",
              "      <td>45.0</td>\n",
              "      <td>no</td>\n",
              "      <td>no</td>\n",
              "      <td>unknown</td>\n",
              "      <td>may</td>\n",
              "      <td>1467.0</td>\n",
              "      <td>unknown</td>\n",
              "      <td>yes</td>\n",
              "    </tr>\n",
              "    <tr>\n",
              "      <th>2</th>\n",
              "      <td>41.0</td>\n",
              "      <td>technician</td>\n",
              "      <td>married</td>\n",
              "      <td>secondary</td>\n",
              "      <td>no</td>\n",
              "      <td>1270.0</td>\n",
              "      <td>yes</td>\n",
              "      <td>no</td>\n",
              "      <td>unknown</td>\n",
              "      <td>may</td>\n",
              "      <td>1389.0</td>\n",
              "      <td>unknown</td>\n",
              "      <td>yes</td>\n",
              "    </tr>\n",
              "    <tr>\n",
              "      <th>3</th>\n",
              "      <td>55.0</td>\n",
              "      <td>services</td>\n",
              "      <td>married</td>\n",
              "      <td>secondary</td>\n",
              "      <td>no</td>\n",
              "      <td>NaN</td>\n",
              "      <td>yes</td>\n",
              "      <td>no</td>\n",
              "      <td>unknown</td>\n",
              "      <td>may</td>\n",
              "      <td>NaN</td>\n",
              "      <td>unknown</td>\n",
              "      <td>yes</td>\n",
              "    </tr>\n",
              "    <tr>\n",
              "      <th>4</th>\n",
              "      <td>54.0</td>\n",
              "      <td>admin.</td>\n",
              "      <td>married</td>\n",
              "      <td>tertiary</td>\n",
              "      <td>no</td>\n",
              "      <td>184.0</td>\n",
              "      <td>no</td>\n",
              "      <td>no</td>\n",
              "      <td>unknown</td>\n",
              "      <td>may</td>\n",
              "      <td>673.0</td>\n",
              "      <td>unknown</td>\n",
              "      <td>yes</td>\n",
              "    </tr>\n",
              "  </tbody>\n",
              "</table>\n",
              "</div>\n",
              "      <button class=\"colab-df-convert\" onclick=\"convertToInteractive('df-fb54cf4d-b19a-4746-875e-0124e7003796')\"\n",
              "              title=\"Convert this dataframe to an interactive table.\"\n",
              "              style=\"display:none;\">\n",
              "        \n",
              "  <svg xmlns=\"http://www.w3.org/2000/svg\" height=\"24px\"viewBox=\"0 0 24 24\"\n",
              "       width=\"24px\">\n",
              "    <path d=\"M0 0h24v24H0V0z\" fill=\"none\"/>\n",
              "    <path d=\"M18.56 5.44l.94 2.06.94-2.06 2.06-.94-2.06-.94-.94-2.06-.94 2.06-2.06.94zm-11 1L8.5 8.5l.94-2.06 2.06-.94-2.06-.94L8.5 2.5l-.94 2.06-2.06.94zm10 10l.94 2.06.94-2.06 2.06-.94-2.06-.94-.94-2.06-.94 2.06-2.06.94z\"/><path d=\"M17.41 7.96l-1.37-1.37c-.4-.4-.92-.59-1.43-.59-.52 0-1.04.2-1.43.59L10.3 9.45l-7.72 7.72c-.78.78-.78 2.05 0 2.83L4 21.41c.39.39.9.59 1.41.59.51 0 1.02-.2 1.41-.59l7.78-7.78 2.81-2.81c.8-.78.8-2.07 0-2.86zM5.41 20L4 18.59l7.72-7.72 1.47 1.35L5.41 20z\"/>\n",
              "  </svg>\n",
              "      </button>\n",
              "      \n",
              "  <style>\n",
              "    .colab-df-container {\n",
              "      display:flex;\n",
              "      flex-wrap:wrap;\n",
              "      gap: 12px;\n",
              "    }\n",
              "\n",
              "    .colab-df-convert {\n",
              "      background-color: #E8F0FE;\n",
              "      border: none;\n",
              "      border-radius: 50%;\n",
              "      cursor: pointer;\n",
              "      display: none;\n",
              "      fill: #1967D2;\n",
              "      height: 32px;\n",
              "      padding: 0 0 0 0;\n",
              "      width: 32px;\n",
              "    }\n",
              "\n",
              "    .colab-df-convert:hover {\n",
              "      background-color: #E2EBFA;\n",
              "      box-shadow: 0px 1px 2px rgba(60, 64, 67, 0.3), 0px 1px 3px 1px rgba(60, 64, 67, 0.15);\n",
              "      fill: #174EA6;\n",
              "    }\n",
              "\n",
              "    [theme=dark] .colab-df-convert {\n",
              "      background-color: #3B4455;\n",
              "      fill: #D2E3FC;\n",
              "    }\n",
              "\n",
              "    [theme=dark] .colab-df-convert:hover {\n",
              "      background-color: #434B5C;\n",
              "      box-shadow: 0px 1px 3px 1px rgba(0, 0, 0, 0.15);\n",
              "      filter: drop-shadow(0px 1px 2px rgba(0, 0, 0, 0.3));\n",
              "      fill: #FFFFFF;\n",
              "    }\n",
              "  </style>\n",
              "\n",
              "      <script>\n",
              "        const buttonEl =\n",
              "          document.querySelector('#df-fb54cf4d-b19a-4746-875e-0124e7003796 button.colab-df-convert');\n",
              "        buttonEl.style.display =\n",
              "          google.colab.kernel.accessAllowed ? 'block' : 'none';\n",
              "\n",
              "        async function convertToInteractive(key) {\n",
              "          const element = document.querySelector('#df-fb54cf4d-b19a-4746-875e-0124e7003796');\n",
              "          const dataTable =\n",
              "            await google.colab.kernel.invokeFunction('convertToInteractive',\n",
              "                                                     [key], {});\n",
              "          if (!dataTable) return;\n",
              "\n",
              "          const docLinkHtml = 'Like what you see? Visit the ' +\n",
              "            '<a target=\"_blank\" href=https://colab.research.google.com/notebooks/data_table.ipynb>data table notebook</a>'\n",
              "            + ' to learn more about interactive tables.';\n",
              "          element.innerHTML = '';\n",
              "          dataTable['output_type'] = 'display_data';\n",
              "          await google.colab.output.renderOutput(dataTable, element);\n",
              "          const docLink = document.createElement('div');\n",
              "          docLink.innerHTML = docLinkHtml;\n",
              "          element.appendChild(docLink);\n",
              "        }\n",
              "      </script>\n",
              "    </div>\n",
              "  </div>\n",
              "  "
            ]
          },
          "metadata": {},
          "execution_count": 2
        }
      ]
    },
    {
      "source": [
        "**Get a summary of our DataFrame.**"
      ],
      "metadata": {
        "id": "8894132d-ddb2-46c7-a8eb-dfd28b6f0cce"
      },
      "id": "8894132d-ddb2-46c7-a8eb-dfd28b6f0cce",
      "cell_type": "markdown"
    },
    {
      "source": [
        "# Return a summary of the DataFrame\n",
        "df.info()"
      ],
      "metadata": {
        "executionTime": 0,
        "lastSuccessfullyExecutedCode": "# Return a summary of the DataFrame\ndf.info()",
        "colab": {
          "base_uri": "https://localhost:8080/"
        },
        "id": "abe92b6b-8cd6-4f08-b46e-98b99c800f8a",
        "outputId": "68593dce-d96e-4e66-c7bd-275153102be5"
      },
      "id": "abe92b6b-8cd6-4f08-b46e-98b99c800f8a",
      "cell_type": "code",
      "execution_count": 3,
      "outputs": [
        {
          "output_type": "stream",
          "name": "stdout",
          "text": [
            "<class 'pandas.core.frame.DataFrame'>\n",
            "RangeIndex: 11162 entries, 0 to 11161\n",
            "Data columns (total 13 columns):\n",
            " #   Column     Non-Null Count  Dtype  \n",
            "---  ------     --------------  -----  \n",
            " 0   age        8595 non-null   float64\n",
            " 1   job        11162 non-null  object \n",
            " 2   marital    10381 non-null  object \n",
            " 3   education  10716 non-null  object \n",
            " 4   default    11162 non-null  object \n",
            " 5   balance    8343 non-null   float64\n",
            " 6   housing    11162 non-null  object \n",
            " 7   loan       11162 non-null  object \n",
            " 8   contact    11162 non-null  object \n",
            " 9   month      11162 non-null  object \n",
            " 10  duration   9488 non-null   float64\n",
            " 11  poutcome   11162 non-null  object \n",
            " 12  deposit    11162 non-null  object \n",
            "dtypes: float64(3), object(10)\n",
            "memory usage: 1.1+ MB\n"
          ]
        }
      ]
    },
    {
      "source": [
        "**Let's take a closer look at missing values**"
      ],
      "metadata": {
        "id": "91c674ba-58d0-4570-a18d-92ee61a38267"
      },
      "id": "91c674ba-58d0-4570-a18d-92ee61a38267",
      "cell_type": "markdown"
    },
    {
      "source": [
        "# Sum all missing values across rows\n",
        "df.isna().sum().sort_values(ascending= False)"
      ],
      "metadata": {
        "executionTime": 24,
        "lastSuccessfullyExecutedCode": "# Sum all missing values across rows\ndf.isna().sum().sort_values(ascending=False)",
        "colab": {
          "base_uri": "https://localhost:8080/"
        },
        "id": "5cb4e88b-1ca1-4aaa-85a3-264a3393fe9c",
        "outputId": "c88c8270-199f-45e3-a8f8-a932f87179ec"
      },
      "id": "5cb4e88b-1ca1-4aaa-85a3-264a3393fe9c",
      "cell_type": "code",
      "execution_count": 4,
      "outputs": [
        {
          "output_type": "execute_result",
          "data": {
            "text/plain": [
              "balance      2819\n",
              "age          2567\n",
              "duration     1674\n",
              "marital       781\n",
              "education     446\n",
              "job             0\n",
              "default         0\n",
              "housing         0\n",
              "loan            0\n",
              "contact         0\n",
              "month           0\n",
              "poutcome        0\n",
              "deposit         0\n",
              "dtype: int64"
            ]
          },
          "metadata": {},
          "execution_count": 4
        }
      ]
    },
    {
      "source": [
        "**We will also want to know the distribution of our target variable: `deposit`. **"
      ],
      "metadata": {
        "id": "5e7632e0-c1cc-4f85-ae17-ff682c966883"
      },
      "id": "5e7632e0-c1cc-4f85-ae17-ff682c966883",
      "cell_type": "markdown"
    },
    {
      "source": [
        "# Get the value counts of the deposit column\n",
        "df['deposit'].value_counts().to_frame()"
      ],
      "metadata": {
        "executionTime": 23,
        "lastSuccessfullyExecutedCode": "# Get the value counts of the deposit column\ndf[\"deposit\"].value_counts()",
        "colab": {
          "base_uri": "https://localhost:8080/",
          "height": 112
        },
        "id": "db87066f-5197-43b3-8f5d-315890e7a9ec",
        "outputId": "cfd8cf92-13e1-4812-c907-c4a5ce18de44"
      },
      "id": "db87066f-5197-43b3-8f5d-315890e7a9ec",
      "cell_type": "code",
      "execution_count": 5,
      "outputs": [
        {
          "output_type": "execute_result",
          "data": {
            "text/plain": [
              "     deposit\n",
              "no      5873\n",
              "yes     5289"
            ],
            "text/html": [
              "\n",
              "  <div id=\"df-fd75a4d9-7f09-4967-b80b-2b83c24d1211\">\n",
              "    <div class=\"colab-df-container\">\n",
              "      <div>\n",
              "<style scoped>\n",
              "    .dataframe tbody tr th:only-of-type {\n",
              "        vertical-align: middle;\n",
              "    }\n",
              "\n",
              "    .dataframe tbody tr th {\n",
              "        vertical-align: top;\n",
              "    }\n",
              "\n",
              "    .dataframe thead th {\n",
              "        text-align: right;\n",
              "    }\n",
              "</style>\n",
              "<table border=\"1\" class=\"dataframe\">\n",
              "  <thead>\n",
              "    <tr style=\"text-align: right;\">\n",
              "      <th></th>\n",
              "      <th>deposit</th>\n",
              "    </tr>\n",
              "  </thead>\n",
              "  <tbody>\n",
              "    <tr>\n",
              "      <th>no</th>\n",
              "      <td>5873</td>\n",
              "    </tr>\n",
              "    <tr>\n",
              "      <th>yes</th>\n",
              "      <td>5289</td>\n",
              "    </tr>\n",
              "  </tbody>\n",
              "</table>\n",
              "</div>\n",
              "      <button class=\"colab-df-convert\" onclick=\"convertToInteractive('df-fd75a4d9-7f09-4967-b80b-2b83c24d1211')\"\n",
              "              title=\"Convert this dataframe to an interactive table.\"\n",
              "              style=\"display:none;\">\n",
              "        \n",
              "  <svg xmlns=\"http://www.w3.org/2000/svg\" height=\"24px\"viewBox=\"0 0 24 24\"\n",
              "       width=\"24px\">\n",
              "    <path d=\"M0 0h24v24H0V0z\" fill=\"none\"/>\n",
              "    <path d=\"M18.56 5.44l.94 2.06.94-2.06 2.06-.94-2.06-.94-.94-2.06-.94 2.06-2.06.94zm-11 1L8.5 8.5l.94-2.06 2.06-.94-2.06-.94L8.5 2.5l-.94 2.06-2.06.94zm10 10l.94 2.06.94-2.06 2.06-.94-2.06-.94-.94-2.06-.94 2.06-2.06.94z\"/><path d=\"M17.41 7.96l-1.37-1.37c-.4-.4-.92-.59-1.43-.59-.52 0-1.04.2-1.43.59L10.3 9.45l-7.72 7.72c-.78.78-.78 2.05 0 2.83L4 21.41c.39.39.9.59 1.41.59.51 0 1.02-.2 1.41-.59l7.78-7.78 2.81-2.81c.8-.78.8-2.07 0-2.86zM5.41 20L4 18.59l7.72-7.72 1.47 1.35L5.41 20z\"/>\n",
              "  </svg>\n",
              "      </button>\n",
              "      \n",
              "  <style>\n",
              "    .colab-df-container {\n",
              "      display:flex;\n",
              "      flex-wrap:wrap;\n",
              "      gap: 12px;\n",
              "    }\n",
              "\n",
              "    .colab-df-convert {\n",
              "      background-color: #E8F0FE;\n",
              "      border: none;\n",
              "      border-radius: 50%;\n",
              "      cursor: pointer;\n",
              "      display: none;\n",
              "      fill: #1967D2;\n",
              "      height: 32px;\n",
              "      padding: 0 0 0 0;\n",
              "      width: 32px;\n",
              "    }\n",
              "\n",
              "    .colab-df-convert:hover {\n",
              "      background-color: #E2EBFA;\n",
              "      box-shadow: 0px 1px 2px rgba(60, 64, 67, 0.3), 0px 1px 3px 1px rgba(60, 64, 67, 0.15);\n",
              "      fill: #174EA6;\n",
              "    }\n",
              "\n",
              "    [theme=dark] .colab-df-convert {\n",
              "      background-color: #3B4455;\n",
              "      fill: #D2E3FC;\n",
              "    }\n",
              "\n",
              "    [theme=dark] .colab-df-convert:hover {\n",
              "      background-color: #434B5C;\n",
              "      box-shadow: 0px 1px 3px 1px rgba(0, 0, 0, 0.15);\n",
              "      filter: drop-shadow(0px 1px 2px rgba(0, 0, 0, 0.3));\n",
              "      fill: #FFFFFF;\n",
              "    }\n",
              "  </style>\n",
              "\n",
              "      <script>\n",
              "        const buttonEl =\n",
              "          document.querySelector('#df-fd75a4d9-7f09-4967-b80b-2b83c24d1211 button.colab-df-convert');\n",
              "        buttonEl.style.display =\n",
              "          google.colab.kernel.accessAllowed ? 'block' : 'none';\n",
              "\n",
              "        async function convertToInteractive(key) {\n",
              "          const element = document.querySelector('#df-fd75a4d9-7f09-4967-b80b-2b83c24d1211');\n",
              "          const dataTable =\n",
              "            await google.colab.kernel.invokeFunction('convertToInteractive',\n",
              "                                                     [key], {});\n",
              "          if (!dataTable) return;\n",
              "\n",
              "          const docLinkHtml = 'Like what you see? Visit the ' +\n",
              "            '<a target=\"_blank\" href=https://colab.research.google.com/notebooks/data_table.ipynb>data table notebook</a>'\n",
              "            + ' to learn more about interactive tables.';\n",
              "          element.innerHTML = '';\n",
              "          dataTable['output_type'] = 'display_data';\n",
              "          await google.colab.output.renderOutput(dataTable, element);\n",
              "          const docLink = document.createElement('div');\n",
              "          docLink.innerHTML = docLinkHtml;\n",
              "          element.appendChild(docLink);\n",
              "        }\n",
              "      </script>\n",
              "    </div>\n",
              "  </div>\n",
              "  "
            ]
          },
          "metadata": {},
          "execution_count": 5
        }
      ]
    },
    {
      "source": [
        "### Categorical variables\n",
        "Let's loop through our categorical variables and get an understanding of the different values they can take. \n",
        "\n",
        "This can also help us understand if there are any variables that need to be reduced in preparation for one-hot-encoding."
      ],
      "metadata": {
        "id": "18c36a61-0a90-4a81-a145-539758d619fe"
      },
      "id": "18c36a61-0a90-4a81-a145-539758d619fe",
      "cell_type": "markdown"
    },
    {
      "source": [
        "# Define our categorical variables\n",
        "categorical_variables = df.select_dtypes(include=['object']).columns.to_list()\n",
        "categorical_variables.remove('deposit')\n",
        "# Print the value counts of the categorical columns\n",
        "for i in categorical_variables:\n",
        "  plt.figure(figsize=(12,10))\n",
        "  c_plot = sns.countplot(x=df[i])\n",
        "  plt.show()"
      ],
      "metadata": {
        "executionTime": 433,
        "lastSuccessfullyExecutedCode": "# Define our categorical variables\ncategorical_variables = df.select_dtypes(include=[\"object\"]).columns.tolist()\ncategorical_variables.remove(\"deposit\")\n\n# Print the value counts of the categorical columns\nfor var in categorical_variables:\n    value_counts = df[var].value_counts(ascending=True)\n    fig = px.bar(value_counts,\n                 x=var,\n                 y=value_counts.index,\n                 title=var\n                )\n    \n    fig.show()",
        "colab": {
          "base_uri": "https://localhost:8080/",
          "height": 1000
        },
        "id": "486c48fa-a183-4bd6-bb47-b8649b3b0f4c",
        "outputId": "b7ec2fc8-f404-4a91-8ecd-0bbe28830444"
      },
      "id": "486c48fa-a183-4bd6-bb47-b8649b3b0f4c",
      "cell_type": "code",
      "execution_count": 6,
      "outputs": [
        {
          "output_type": "display_data",
          "data": {
            "text/plain": [
              "<Figure size 864x720 with 1 Axes>"
            ],
            "image/png": "[encoded data removed]"
          },
          "metadata": {
            "needs_background": "light"
          }
        },
        {
          "output_type": "display_data",
          "data": {
            "text/plain": [
              "<Figure size 864x720 with 1 Axes>"
            ],
            "image/png": "[encoded data removed]"
          },
          "metadata": {
            "needs_background": "light"
          }
        },
        {
          "output_type": "display_data",
          "data": {
            "text/plain": [
              "<Figure size 864x720 with 1 Axes>"
            ],
            "image/png": "[encoded data removed]"
          },
          "metadata": {
            "needs_background": "light"
          }
        },
        {
          "output_type": "display_data",
          "data": {
            "text/plain": [
              "<Figure size 864x720 with 1 Axes>"
            ],
            "image/png": "[encoded data removed]"
          },
          "metadata": {
            "needs_background": "light"
          }
        },
        {
          "output_type": "display_data",
          "data": {
            "text/plain": [
              "<Figure size 864x720 with 1 Axes>"
            ],
            "image/png": "[encoded data removed]"
          },
          "metadata": {
            "needs_background": "light"
          }
        },
        {
          "output_type": "display_data",
          "data": {
            "text/plain": [
              "<Figure size 864x720 with 1 Axes>"
            ],
            "image/png": "[encoded data removed]"
          },
          "metadata": {
            "needs_background": "light"
          }
        },
        {
          "output_type": "display_data",
          "data": {
            "text/plain": [
              "<Figure size 864x720 with 1 Axes>"
            ],
            "image/png": "[encoded data removed]"
          },
          "metadata": {
            "needs_background": "light"
          }
        },
        {
          "output_type": "display_data",
          "data": {
            "text/plain": [
              "<Figure size 864x720 with 1 Axes>"
            ],
            "image/png": "[encoded data removed]"
          },
          "metadata": {
            "needs_background": "light"
          }
        },
        {
          "output_type": "display_data",
          "data": {
            "text/plain": [
              "<Figure size 864x720 with 1 Axes>"
            ],
            "image/png": "[encoded data removed]"
          },
          "metadata": {
            "needs_background": "light"
          }
        }
      ]
    },
    {
      "source": [
        "### Numeric variables\n",
        "We should also inspect our numeric variables to understand both their distribution and their scale."
      ],
      "metadata": {
        "id": "09cc6fd8-9ba8-41c1-8451-7f713a28e1f8"
      },
      "id": "09cc6fd8-9ba8-41c1-8451-7f713a28e1f8",
      "cell_type": "markdown"
    },
    {
      "source": [
        "# Define our numeric variables\n",
        "numeric_variables =df.select_dtypes(include=['float64', 'int64']).columns.tolist()\n",
        "\n",
        "# Create a histogram for each variable\n",
        "for var in numeric_variables:\n",
        "  plt.figure(figsize=(12,10))\n",
        "  sns.histplot(data=df, x= var)\n",
        "  plt.show()"
      ],
      "metadata": {
        "executionTime": 666,
        "lastSuccessfullyExecutedCode": "# Define our numeric variables\nnumeric_variables = df.select_dtypes(include=[\"float64\"]).columns.tolist()\n\n# Create a histogram for each variable\nfor var in numeric_variables:\n    fig = px.histogram(df,\n                       x=var,\n                       title=var\n                      )\n    fig.show()",
        "id": "091292c0-3034-4a85-a368-2c8f21c953d3",
        "colab": {
          "base_uri": "https://localhost:8080/",
          "height": 1000
        },
        "outputId": "03917592-c273-4adc-d079-697a895c4218"
      },
      "id": "091292c0-3034-4a85-a368-2c8f21c953d3",
      "cell_type": "code",
      "execution_count": 7,
      "outputs": [
        {
          "output_type": "display_data",
          "data": {
            "text/plain": [
              "<Figure size 864x720 with 1 Axes>"
            ],
            "image/png": "[encoded data removed]"
          },
          "metadata": {
            "needs_background": "light"
          }
        },
        {
          "output_type": "display_data",
          "data": {
            "text/plain": [
              "<Figure size 864x720 with 1 Axes>"
            ],
            "image/png": "[encoded data removed]"
          },
          "metadata": {
            "needs_background": "light"
          }
        },
        {
          "output_type": "display_data",
          "data": {
            "text/plain": [
              "<Figure size 864x720 with 1 Axes>"
            ],
            "image/png": "[encoded data removed]"
          },
          "metadata": {
            "needs_background": "light"
          }
        }
      ]
    },
    {
      "source": [
        "Our numeric variables on largely different scales. Many models rely on distance. This means that features on larger scales can bias the outcome of the model. We will use a standard scaler to address this issue.\n",
        "\n",
        "Now that we know what we want to do with our data, let's split our data into train and test sets."
      ],
      "metadata": {
        "id": "63ce9afa-022c-4523-81f8-f7e7a57d307d"
      },
      "id": "63ce9afa-022c-4523-81f8-f7e7a57d307d",
      "cell_type": "markdown"
    },
    {
      "source": [
        "# Define X and y\n",
        "X = df[numeric_variables+categorical_variables]\n",
        "y= df['deposit']\n",
        "\n",
        "# Split our data into train and testing subsets\n",
        "X_train, X_test, y_train, y_test = train_test_split(X, y, test_size = 0.25, random_state= 1)"
      ],
      "metadata": {
        "id": "8a1f1458-6cd4-4c44-9af9-09a976bb5076"
      },
      "id": "8a1f1458-6cd4-4c44-9af9-09a976bb5076",
      "cell_type": "code",
      "execution_count": 9,
      "outputs": []
    },
    {
      "source": [
        "## Preprocessing the data\n",
        "### Categorical data\n",
        "Some of our categorical variables had missing values. We could consider dropping them, but let's try filling these missing values using a [`SimpleImputer()`]"
      ],
      "metadata": {
        "id": "80c4ee88-e4d6-464f-9f3e-96e027656c79"
      },
      "id": "80c4ee88-e4d6-464f-9f3e-96e027656c79",
      "cell_type": "markdown"
    },
    {
      "source": [
        "# Initialize the imputer and set the strategy to 'most_frequent'\n",
        "imputer = SimpleImputer(strategy= 'most_frequent')\n",
        "\n",
        "# Fit and transform the column with the missing data\n",
        "education_filled = imputer.fit_transform(X_train[['education']])\n",
        "\n",
        "# Create a new DataFrame of the data for comparison purposes\n",
        "pd.DataFrame(education_filled)"
      ],
      "metadata": {
        "executionTime": 627,
        "lastSuccessfullyExecutedCode": "# Initialize the imputer and set the strategy to 'most_frequent'\nimp = SimpleImputer(strategy=\"most_frequent\")\n\n# Fit and transform the column with the missing data\neducation_filled = imp.fit_transform(X_train[[\"education\"]])\n\n# Create a new DataFrame of the data for comparison purposes\npd.concat(\n    [pd.DataFrame(education_filled), X_train[[\"education\"]]], axis=1, ignore_index=True\n)",
        "id": "2465f0c4-3429-41d1-9bf0-f6b77100c454",
        "colab": {
          "base_uri": "https://localhost:8080/",
          "height": 424
        },
        "outputId": "9456914d-7d8b-4fca-ae49-bf62e5424f15"
      },
      "id": "2465f0c4-3429-41d1-9bf0-f6b77100c454",
      "cell_type": "code",
      "execution_count": 10,
      "outputs": [
        {
          "output_type": "execute_result",
          "data": {
            "text/plain": [
              "              0\n",
              "0       primary\n",
              "1      tertiary\n",
              "2     secondary\n",
              "3       primary\n",
              "4      tertiary\n",
              "...         ...\n",
              "8366  secondary\n",
              "8367  secondary\n",
              "8368  secondary\n",
              "8369  secondary\n",
              "8370    primary\n",
              "\n",
              "[8371 rows x 1 columns]"
            ],
            "text/html": [
              "\n",
              "  <div id=\"df-88804412-4a93-49ad-83ed-d02550722d0f\">\n",
              "    <div class=\"colab-df-container\">\n",
              "      <div>\n",
              "<style scoped>\n",
              "    .dataframe tbody tr th:only-of-type {\n",
              "        vertical-align: middle;\n",
              "    }\n",
              "\n",
              "    .dataframe tbody tr th {\n",
              "        vertical-align: top;\n",
              "    }\n",
              "\n",
              "    .dataframe thead th {\n",
              "        text-align: right;\n",
              "    }\n",
              "</style>\n",
              "<table border=\"1\" class=\"dataframe\">\n",
              "  <thead>\n",
              "    <tr style=\"text-align: right;\">\n",
              "      <th></th>\n",
              "      <th>0</th>\n",
              "    </tr>\n",
              "  </thead>\n",
              "  <tbody>\n",
              "    <tr>\n",
              "      <th>0</th>\n",
              "      <td>primary</td>\n",
              "    </tr>\n",
              "    <tr>\n",
              "      <th>1</th>\n",
              "      <td>tertiary</td>\n",
              "    </tr>\n",
              "    <tr>\n",
              "      <th>2</th>\n",
              "      <td>secondary</td>\n",
              "    </tr>\n",
              "    <tr>\n",
              "      <th>3</th>\n",
              "      <td>primary</td>\n",
              "    </tr>\n",
              "    <tr>\n",
              "      <th>4</th>\n",
              "      <td>tertiary</td>\n",
              "    </tr>\n",
              "    <tr>\n",
              "      <th>...</th>\n",
              "      <td>...</td>\n",
              "    </tr>\n",
              "    <tr>\n",
              "      <th>8366</th>\n",
              "      <td>secondary</td>\n",
              "    </tr>\n",
              "    <tr>\n",
              "      <th>8367</th>\n",
              "      <td>secondary</td>\n",
              "    </tr>\n",
              "    <tr>\n",
              "      <th>8368</th>\n",
              "      <td>secondary</td>\n",
              "    </tr>\n",
              "    <tr>\n",
              "      <th>8369</th>\n",
              "      <td>secondary</td>\n",
              "    </tr>\n",
              "    <tr>\n",
              "      <th>8370</th>\n",
              "      <td>primary</td>\n",
              "    </tr>\n",
              "  </tbody>\n",
              "</table>\n",
              "<p>8371 rows × 1 columns</p>\n",
              "</div>\n",
              "      <button class=\"colab-df-convert\" onclick=\"convertToInteractive('df-88804412-4a93-49ad-83ed-d02550722d0f')\"\n",
              "              title=\"Convert this dataframe to an interactive table.\"\n",
              "              style=\"display:none;\">\n",
              "        \n",
              "  <svg xmlns=\"http://www.w3.org/2000/svg\" height=\"24px\"viewBox=\"0 0 24 24\"\n",
              "       width=\"24px\">\n",
              "    <path d=\"M0 0h24v24H0V0z\" fill=\"none\"/>\n",
              "    <path d=\"M18.56 5.44l.94 2.06.94-2.06 2.06-.94-2.06-.94-.94-2.06-.94 2.06-2.06.94zm-11 1L8.5 8.5l.94-2.06 2.06-.94-2.06-.94L8.5 2.5l-.94 2.06-2.06.94zm10 10l.94 2.06.94-2.06 2.06-.94-2.06-.94-.94-2.06-.94 2.06-2.06.94z\"/><path d=\"M17.41 7.96l-1.37-1.37c-.4-.4-.92-.59-1.43-.59-.52 0-1.04.2-1.43.59L10.3 9.45l-7.72 7.72c-.78.78-.78 2.05 0 2.83L4 21.41c.39.39.9.59 1.41.59.51 0 1.02-.2 1.41-.59l7.78-7.78 2.81-2.81c.8-.78.8-2.07 0-2.86zM5.41 20L4 18.59l7.72-7.72 1.47 1.35L5.41 20z\"/>\n",
              "  </svg>\n",
              "      </button>\n",
              "      \n",
              "  <style>\n",
              "    .colab-df-container {\n",
              "      display:flex;\n",
              "      flex-wrap:wrap;\n",
              "      gap: 12px;\n",
              "    }\n",
              "\n",
              "    .colab-df-convert {\n",
              "      background-color: #E8F0FE;\n",
              "      border: none;\n",
              "      border-radius: 50%;\n",
              "      cursor: pointer;\n",
              "      display: none;\n",
              "      fill: #1967D2;\n",
              "      height: 32px;\n",
              "      padding: 0 0 0 0;\n",
              "      width: 32px;\n",
              "    }\n",
              "\n",
              "    .colab-df-convert:hover {\n",
              "      background-color: #E2EBFA;\n",
              "      box-shadow: 0px 1px 2px rgba(60, 64, 67, 0.3), 0px 1px 3px 1px rgba(60, 64, 67, 0.15);\n",
              "      fill: #174EA6;\n",
              "    }\n",
              "\n",
              "    [theme=dark] .colab-df-convert {\n",
              "      background-color: #3B4455;\n",
              "      fill: #D2E3FC;\n",
              "    }\n",
              "\n",
              "    [theme=dark] .colab-df-convert:hover {\n",
              "      background-color: #434B5C;\n",
              "      box-shadow: 0px 1px 3px 1px rgba(0, 0, 0, 0.15);\n",
              "      filter: drop-shadow(0px 1px 2px rgba(0, 0, 0, 0.3));\n",
              "      fill: #FFFFFF;\n",
              "    }\n",
              "  </style>\n",
              "\n",
              "      <script>\n",
              "        const buttonEl =\n",
              "          document.querySelector('#df-88804412-4a93-49ad-83ed-d02550722d0f button.colab-df-convert');\n",
              "        buttonEl.style.display =\n",
              "          google.colab.kernel.accessAllowed ? 'block' : 'none';\n",
              "\n",
              "        async function convertToInteractive(key) {\n",
              "          const element = document.querySelector('#df-88804412-4a93-49ad-83ed-d02550722d0f');\n",
              "          const dataTable =\n",
              "            await google.colab.kernel.invokeFunction('convertToInteractive',\n",
              "                                                     [key], {});\n",
              "          if (!dataTable) return;\n",
              "\n",
              "          const docLinkHtml = 'Like what you see? Visit the ' +\n",
              "            '<a target=\"_blank\" href=https://colab.research.google.com/notebooks/data_table.ipynb>data table notebook</a>'\n",
              "            + ' to learn more about interactive tables.';\n",
              "          element.innerHTML = '';\n",
              "          dataTable['output_type'] = 'display_data';\n",
              "          await google.colab.output.renderOutput(dataTable, element);\n",
              "          const docLink = document.createElement('div');\n",
              "          docLink.innerHTML = docLinkHtml;\n",
              "          element.appendChild(docLink);\n",
              "        }\n",
              "      </script>\n",
              "    </div>\n",
              "  </div>\n",
              "  "
            ]
          },
          "metadata": {},
          "execution_count": 10
        }
      ]
    },
    {
      "source": [
        "We will also perform one-hot encoding on our categorical data."
      ],
      "metadata": {
        "id": "6fea3c3d-ed0c-4f39-8fb4-0eac70964592"
      },
      "id": "6fea3c3d-ed0c-4f39-8fb4-0eac70964592",
      "cell_type": "markdown"
    },
    {
      "source": [
        "# Initialize the encoder\n",
        "encoder = OneHotEncoder(handle_unknown= 'ignore', sparse= False)\n",
        "\n",
        "# Fit and transform the marital column\n",
        "marital_encoded = encoder.fit_transform(X_train[['marital']])\n",
        "\n",
        "# View the resulting columns\n",
        "pd.DataFrame(marital_encoded, columns= encoder.get_feature_names_out())"
      ],
      "metadata": {
        "executionTime": 637,
        "lastSuccessfullyExecutedCode": "# Initialize the encoder\nohencoder = OneHotEncoder(handle_unknown=\"ignore\", sparse=False)\n\n# Fit and transform the marital column\nmarital_encoded = ohencoder.fit_transform(X_train[[\"marital\"]])\n\n# View the resulting columns\npd.DataFrame(marital_encoded, columns=ohencoder.get_feature_names_out())",
        "id": "9144e0b0-0a33-4ecd-827c-e6226ee4e383",
        "colab": {
          "base_uri": "https://localhost:8080/",
          "height": 424
        },
        "outputId": "fee4f1ca-90ac-402b-a501-8567377d6f4e"
      },
      "id": "9144e0b0-0a33-4ecd-827c-e6226ee4e383",
      "cell_type": "code",
      "execution_count": 11,
      "outputs": [
        {
          "output_type": "execute_result",
          "data": {
            "text/plain": [
              "      marital_divorced  marital_married  marital_single  marital_nan\n",
              "0                  1.0              0.0             0.0          0.0\n",
              "1                  0.0              1.0             0.0          0.0\n",
              "2                  0.0              1.0             0.0          0.0\n",
              "3                  0.0              1.0             0.0          0.0\n",
              "4                  0.0              0.0             1.0          0.0\n",
              "...                ...              ...             ...          ...\n",
              "8366               0.0              1.0             0.0          0.0\n",
              "8367               0.0              1.0             0.0          0.0\n",
              "8368               0.0              1.0             0.0          0.0\n",
              "8369               0.0              0.0             1.0          0.0\n",
              "8370               0.0              1.0             0.0          0.0\n",
              "\n",
              "[8371 rows x 4 columns]"
            ],
            "text/html": [
              "\n",
              "  <div id=\"df-e25fb020-26eb-4ac1-ade7-a409351e9d46\">\n",
              "    <div class=\"colab-df-container\">\n",
              "      <div>\n",
              "<style scoped>\n",
              "    .dataframe tbody tr th:only-of-type {\n",
              "        vertical-align: middle;\n",
              "    }\n",
              "\n",
              "    .dataframe tbody tr th {\n",
              "        vertical-align: top;\n",
              "    }\n",
              "\n",
              "    .dataframe thead th {\n",
              "        text-align: right;\n",
              "    }\n",
              "</style>\n",
              "<table border=\"1\" class=\"dataframe\">\n",
              "  <thead>\n",
              "    <tr style=\"text-align: right;\">\n",
              "      <th></th>\n",
              "      <th>marital_divorced</th>\n",
              "      <th>marital_married</th>\n",
              "      <th>marital_single</th>\n",
              "      <th>marital_nan</th>\n",
              "    </tr>\n",
              "  </thead>\n",
              "  <tbody>\n",
              "    <tr>\n",
              "      <th>0</th>\n",
              "      <td>1.0</td>\n",
              "      <td>0.0</td>\n",
              "      <td>0.0</td>\n",
              "      <td>0.0</td>\n",
              "    </tr>\n",
              "    <tr>\n",
              "      <th>1</th>\n",
              "      <td>0.0</td>\n",
              "      <td>1.0</td>\n",
              "      <td>0.0</td>\n",
              "      <td>0.0</td>\n",
              "    </tr>\n",
              "    <tr>\n",
              "      <th>2</th>\n",
              "      <td>0.0</td>\n",
              "      <td>1.0</td>\n",
              "      <td>0.0</td>\n",
              "      <td>0.0</td>\n",
              "    </tr>\n",
              "    <tr>\n",
              "      <th>3</th>\n",
              "      <td>0.0</td>\n",
              "      <td>1.0</td>\n",
              "      <td>0.0</td>\n",
              "      <td>0.0</td>\n",
              "    </tr>\n",
              "    <tr>\n",
              "      <th>4</th>\n",
              "      <td>0.0</td>\n",
              "      <td>0.0</td>\n",
              "      <td>1.0</td>\n",
              "      <td>0.0</td>\n",
              "    </tr>\n",
              "    <tr>\n",
              "      <th>...</th>\n",
              "      <td>...</td>\n",
              "      <td>...</td>\n",
              "      <td>...</td>\n",
              "      <td>...</td>\n",
              "    </tr>\n",
              "    <tr>\n",
              "      <th>8366</th>\n",
              "      <td>0.0</td>\n",
              "      <td>1.0</td>\n",
              "      <td>0.0</td>\n",
              "      <td>0.0</td>\n",
              "    </tr>\n",
              "    <tr>\n",
              "      <th>8367</th>\n",
              "      <td>0.0</td>\n",
              "      <td>1.0</td>\n",
              "      <td>0.0</td>\n",
              "      <td>0.0</td>\n",
              "    </tr>\n",
              "    <tr>\n",
              "      <th>8368</th>\n",
              "      <td>0.0</td>\n",
              "      <td>1.0</td>\n",
              "      <td>0.0</td>\n",
              "      <td>0.0</td>\n",
              "    </tr>\n",
              "    <tr>\n",
              "      <th>8369</th>\n",
              "      <td>0.0</td>\n",
              "      <td>0.0</td>\n",
              "      <td>1.0</td>\n",
              "      <td>0.0</td>\n",
              "    </tr>\n",
              "    <tr>\n",
              "      <th>8370</th>\n",
              "      <td>0.0</td>\n",
              "      <td>1.0</td>\n",
              "      <td>0.0</td>\n",
              "      <td>0.0</td>\n",
              "    </tr>\n",
              "  </tbody>\n",
              "</table>\n",
              "<p>8371 rows × 4 columns</p>\n",
              "</div>\n",
              "      <button class=\"colab-df-convert\" onclick=\"convertToInteractive('df-e25fb020-26eb-4ac1-ade7-a409351e9d46')\"\n",
              "              title=\"Convert this dataframe to an interactive table.\"\n",
              "              style=\"display:none;\">\n",
              "        \n",
              "  <svg xmlns=\"http://www.w3.org/2000/svg\" height=\"24px\"viewBox=\"0 0 24 24\"\n",
              "       width=\"24px\">\n",
              "    <path d=\"M0 0h24v24H0V0z\" fill=\"none\"/>\n",
              "    <path d=\"M18.56 5.44l.94 2.06.94-2.06 2.06-.94-2.06-.94-.94-2.06-.94 2.06-2.06.94zm-11 1L8.5 8.5l.94-2.06 2.06-.94-2.06-.94L8.5 2.5l-.94 2.06-2.06.94zm10 10l.94 2.06.94-2.06 2.06-.94-2.06-.94-.94-2.06-.94 2.06-2.06.94z\"/><path d=\"M17.41 7.96l-1.37-1.37c-.4-.4-.92-.59-1.43-.59-.52 0-1.04.2-1.43.59L10.3 9.45l-7.72 7.72c-.78.78-.78 2.05 0 2.83L4 21.41c.39.39.9.59 1.41.59.51 0 1.02-.2 1.41-.59l7.78-7.78 2.81-2.81c.8-.78.8-2.07 0-2.86zM5.41 20L4 18.59l7.72-7.72 1.47 1.35L5.41 20z\"/>\n",
              "  </svg>\n",
              "      </button>\n",
              "      \n",
              "  <style>\n",
              "    .colab-df-container {\n",
              "      display:flex;\n",
              "      flex-wrap:wrap;\n",
              "      gap: 12px;\n",
              "    }\n",
              "\n",
              "    .colab-df-convert {\n",
              "      background-color: #E8F0FE;\n",
              "      border: none;\n",
              "      border-radius: 50%;\n",
              "      cursor: pointer;\n",
              "      display: none;\n",
              "      fill: #1967D2;\n",
              "      height: 32px;\n",
              "      padding: 0 0 0 0;\n",
              "      width: 32px;\n",
              "    }\n",
              "\n",
              "    .colab-df-convert:hover {\n",
              "      background-color: #E2EBFA;\n",
              "      box-shadow: 0px 1px 2px rgba(60, 64, 67, 0.3), 0px 1px 3px 1px rgba(60, 64, 67, 0.15);\n",
              "      fill: #174EA6;\n",
              "    }\n",
              "\n",
              "    [theme=dark] .colab-df-convert {\n",
              "      background-color: #3B4455;\n",
              "      fill: #D2E3FC;\n",
              "    }\n",
              "\n",
              "    [theme=dark] .colab-df-convert:hover {\n",
              "      background-color: #434B5C;\n",
              "      box-shadow: 0px 1px 3px 1px rgba(0, 0, 0, 0.15);\n",
              "      filter: drop-shadow(0px 1px 2px rgba(0, 0, 0, 0.3));\n",
              "      fill: #FFFFFF;\n",
              "    }\n",
              "  </style>\n",
              "\n",
              "      <script>\n",
              "        const buttonEl =\n",
              "          document.querySelector('#df-e25fb020-26eb-4ac1-ade7-a409351e9d46 button.colab-df-convert');\n",
              "        buttonEl.style.display =\n",
              "          google.colab.kernel.accessAllowed ? 'block' : 'none';\n",
              "\n",
              "        async function convertToInteractive(key) {\n",
              "          const element = document.querySelector('#df-e25fb020-26eb-4ac1-ade7-a409351e9d46');\n",
              "          const dataTable =\n",
              "            await google.colab.kernel.invokeFunction('convertToInteractive',\n",
              "                                                     [key], {});\n",
              "          if (!dataTable) return;\n",
              "\n",
              "          const docLinkHtml = 'Like what you see? Visit the ' +\n",
              "            '<a target=\"_blank\" href=https://colab.research.google.com/notebooks/data_table.ipynb>data table notebook</a>'\n",
              "            + ' to learn more about interactive tables.';\n",
              "          element.innerHTML = '';\n",
              "          dataTable['output_type'] = 'display_data';\n",
              "          await google.colab.output.renderOutput(dataTable, element);\n",
              "          const docLink = document.createElement('div');\n",
              "          docLink.innerHTML = docLinkHtml;\n",
              "          element.appendChild(docLink);\n",
              "        }\n",
              "      </script>\n",
              "    </div>\n",
              "  </div>\n",
              "  "
            ]
          },
          "metadata": {},
          "execution_count": 11
        }
      ]
    },
    {
      "source": [
        "### Transforming the numeric data\n",
        "Our numeric data also has missing values, which we will want to correct for. We will also want to standardize our data so that all features are centered around zero and have a variance of one.\n"
      ],
      "metadata": {
        "id": "107c416a-9cd7-4088-b0a9-5ee008440dd8"
      },
      "id": "107c416a-9cd7-4088-b0a9-5ee008440dd8",
      "cell_type": "markdown"
    },
    {
      "source": [
        "# Initialize the scaler\n",
        "scaler = StandardScaler()\n",
        "\n",
        "# Fit and transform the with the standard scaler\n",
        "balance_transformed = scaler.fit_transform(X_train[['balance']])\n",
        "\n",
        "# Create a new DataFrame of the data for comparison purposes\n",
        "pd.DataFrame(balance_transformed)"
      ],
      "metadata": {
        "executionTime": 199,
        "lastSuccessfullyExecutedCode": "# Initialize the scaler\nscaler = StandardScaler()\n\n# Fit and transform the with the standard scaler\nbalance_transformed = scaler.fit_transform(X_train[[\"balance\"]])\n\n# Create a new DataFrame of the data for comparison purposes\npx.histogram(balance_transformed)",
        "id": "4e00ec1e-5fe5-4c30-bf79-a7f1b807f6d3",
        "colab": {
          "base_uri": "https://localhost:8080/",
          "height": 424
        },
        "outputId": "7c77cfd9-6ca2-4bf4-db16-34aba185d18e"
      },
      "id": "4e00ec1e-5fe5-4c30-bf79-a7f1b807f6d3",
      "cell_type": "code",
      "execution_count": 12,
      "outputs": [
        {
          "output_type": "execute_result",
          "data": {
            "text/plain": [
              "             0\n",
              "0     0.167117\n",
              "1    -0.490557\n",
              "2    -0.572645\n",
              "3    -0.304319\n",
              "4    -0.426639\n",
              "...        ...\n",
              "8366 -0.249161\n",
              "8367 -0.961344\n",
              "8368       NaN\n",
              "8369 -0.170967\n",
              "8370 -0.359801\n",
              "\n",
              "[8371 rows x 1 columns]"
            ],
            "text/html": [
              "\n",
              "  <div id=\"df-776db33e-8abc-4e61-8699-b49a15161fe3\">\n",
              "    <div class=\"colab-df-container\">\n",
              "      <div>\n",
              "<style scoped>\n",
              "    .dataframe tbody tr th:only-of-type {\n",
              "        vertical-align: middle;\n",
              "    }\n",
              "\n",
              "    .dataframe tbody tr th {\n",
              "        vertical-align: top;\n",
              "    }\n",
              "\n",
              "    .dataframe thead th {\n",
              "        text-align: right;\n",
              "    }\n",
              "</style>\n",
              "<table border=\"1\" class=\"dataframe\">\n",
              "  <thead>\n",
              "    <tr style=\"text-align: right;\">\n",
              "      <th></th>\n",
              "      <th>0</th>\n",
              "    </tr>\n",
              "  </thead>\n",
              "  <tbody>\n",
              "    <tr>\n",
              "      <th>0</th>\n",
              "      <td>0.167117</td>\n",
              "    </tr>\n",
              "    <tr>\n",
              "      <th>1</th>\n",
              "      <td>-0.490557</td>\n",
              "    </tr>\n",
              "    <tr>\n",
              "      <th>2</th>\n",
              "      <td>-0.572645</td>\n",
              "    </tr>\n",
              "    <tr>\n",
              "      <th>3</th>\n",
              "      <td>-0.304319</td>\n",
              "    </tr>\n",
              "    <tr>\n",
              "      <th>4</th>\n",
              "      <td>-0.426639</td>\n",
              "    </tr>\n",
              "    <tr>\n",
              "      <th>...</th>\n",
              "      <td>...</td>\n",
              "    </tr>\n",
              "    <tr>\n",
              "      <th>8366</th>\n",
              "      <td>-0.249161</td>\n",
              "    </tr>\n",
              "    <tr>\n",
              "      <th>8367</th>\n",
              "      <td>-0.961344</td>\n",
              "    </tr>\n",
              "    <tr>\n",
              "      <th>8368</th>\n",
              "      <td>NaN</td>\n",
              "    </tr>\n",
              "    <tr>\n",
              "      <th>8369</th>\n",
              "      <td>-0.170967</td>\n",
              "    </tr>\n",
              "    <tr>\n",
              "      <th>8370</th>\n",
              "      <td>-0.359801</td>\n",
              "    </tr>\n",
              "  </tbody>\n",
              "</table>\n",
              "<p>8371 rows × 1 columns</p>\n",
              "</div>\n",
              "      <button class=\"colab-df-convert\" onclick=\"convertToInteractive('df-776db33e-8abc-4e61-8699-b49a15161fe3')\"\n",
              "              title=\"Convert this dataframe to an interactive table.\"\n",
              "              style=\"display:none;\">\n",
              "        \n",
              "  <svg xmlns=\"http://www.w3.org/2000/svg\" height=\"24px\"viewBox=\"0 0 24 24\"\n",
              "       width=\"24px\">\n",
              "    <path d=\"M0 0h24v24H0V0z\" fill=\"none\"/>\n",
              "    <path d=\"M18.56 5.44l.94 2.06.94-2.06 2.06-.94-2.06-.94-.94-2.06-.94 2.06-2.06.94zm-11 1L8.5 8.5l.94-2.06 2.06-.94-2.06-.94L8.5 2.5l-.94 2.06-2.06.94zm10 10l.94 2.06.94-2.06 2.06-.94-2.06-.94-.94-2.06-.94 2.06-2.06.94z\"/><path d=\"M17.41 7.96l-1.37-1.37c-.4-.4-.92-.59-1.43-.59-.52 0-1.04.2-1.43.59L10.3 9.45l-7.72 7.72c-.78.78-.78 2.05 0 2.83L4 21.41c.39.39.9.59 1.41.59.51 0 1.02-.2 1.41-.59l7.78-7.78 2.81-2.81c.8-.78.8-2.07 0-2.86zM5.41 20L4 18.59l7.72-7.72 1.47 1.35L5.41 20z\"/>\n",
              "  </svg>\n",
              "      </button>\n",
              "      \n",
              "  <style>\n",
              "    .colab-df-container {\n",
              "      display:flex;\n",
              "      flex-wrap:wrap;\n",
              "      gap: 12px;\n",
              "    }\n",
              "\n",
              "    .colab-df-convert {\n",
              "      background-color: #E8F0FE;\n",
              "      border: none;\n",
              "      border-radius: 50%;\n",
              "      cursor: pointer;\n",
              "      display: none;\n",
              "      fill: #1967D2;\n",
              "      height: 32px;\n",
              "      padding: 0 0 0 0;\n",
              "      width: 32px;\n",
              "    }\n",
              "\n",
              "    .colab-df-convert:hover {\n",
              "      background-color: #E2EBFA;\n",
              "      box-shadow: 0px 1px 2px rgba(60, 64, 67, 0.3), 0px 1px 3px 1px rgba(60, 64, 67, 0.15);\n",
              "      fill: #174EA6;\n",
              "    }\n",
              "\n",
              "    [theme=dark] .colab-df-convert {\n",
              "      background-color: #3B4455;\n",
              "      fill: #D2E3FC;\n",
              "    }\n",
              "\n",
              "    [theme=dark] .colab-df-convert:hover {\n",
              "      background-color: #434B5C;\n",
              "      box-shadow: 0px 1px 3px 1px rgba(0, 0, 0, 0.15);\n",
              "      filter: drop-shadow(0px 1px 2px rgba(0, 0, 0, 0.3));\n",
              "      fill: #FFFFFF;\n",
              "    }\n",
              "  </style>\n",
              "\n",
              "      <script>\n",
              "        const buttonEl =\n",
              "          document.querySelector('#df-776db33e-8abc-4e61-8699-b49a15161fe3 button.colab-df-convert');\n",
              "        buttonEl.style.display =\n",
              "          google.colab.kernel.accessAllowed ? 'block' : 'none';\n",
              "\n",
              "        async function convertToInteractive(key) {\n",
              "          const element = document.querySelector('#df-776db33e-8abc-4e61-8699-b49a15161fe3');\n",
              "          const dataTable =\n",
              "            await google.colab.kernel.invokeFunction('convertToInteractive',\n",
              "                                                     [key], {});\n",
              "          if (!dataTable) return;\n",
              "\n",
              "          const docLinkHtml = 'Like what you see? Visit the ' +\n",
              "            '<a target=\"_blank\" href=https://colab.research.google.com/notebooks/data_table.ipynb>data table notebook</a>'\n",
              "            + ' to learn more about interactive tables.';\n",
              "          element.innerHTML = '';\n",
              "          dataTable['output_type'] = 'display_data';\n",
              "          await google.colab.output.renderOutput(dataTable, element);\n",
              "          const docLink = document.createElement('div');\n",
              "          docLink.innerHTML = docLinkHtml;\n",
              "          element.appendChild(docLink);\n",
              "        }\n",
              "      </script>\n",
              "    </div>\n",
              "  </div>\n",
              "  "
            ]
          },
          "metadata": {},
          "execution_count": 12
        }
      ]
    },
    {
      "source": [
        "### Creating a pipeline\n",
        "We can now create two pipelines to transform our categorical and numerical data. We construct them separately using [`Pipeline()`](https://scikit-learn.org/stable/modules/generated/sklearn.pipeline.Pipeline.html)."
      ],
      "metadata": {
        "id": "d84fcc3d-d532-4b3b-b234-8b26801c6c39"
      },
      "id": "d84fcc3d-d532-4b3b-b234-8b26801c6c39",
      "cell_type": "markdown"
    },
    {
      "source": [
        "# Define pipelines for our categorical and numeric variables\n",
        "categorical_transformer = Pipeline(steps=[\n",
        "    ('imputer', SimpleImputer(strategy= 'most_frequent')),\n",
        "    ('onehencoder', OneHotEncoder(handle_unknown='ignore'))\n",
        "])\n",
        "\n",
        "numeric_transformer = Pipeline(steps=[\n",
        "    ('imputer', SimpleImputer(strategy='mean')),\n",
        "    ('scaler', StandardScaler())\n",
        "])"
      ],
      "metadata": {
        "executionTime": 0,
        "lastSuccessfullyExecutedCode": "# Define pipelines for our categorical and numeric variables\ncategorical_transformer = Pipeline(\n    steps=[\n        (\"imputer\", SimpleImputer(strategy=\"constant\", fill_value=\"unknown\")),\n        (\"ohencoder\", OneHotEncoder(handle_unknown=\"ignore\")),\n    ]\n)\n\nnumeric_transformer = Pipeline(\n    steps=[\n        (\"imputer\", SimpleImputer(strategy=\"mean\")),\n        (\"scaler\", StandardScaler())\n    ]\n)",
        "id": "d3b63e1c-33ef-4f3a-bd89-010c7218e51e"
      },
      "id": "d3b63e1c-33ef-4f3a-bd89-010c7218e51e",
      "cell_type": "code",
      "execution_count": 13,
      "outputs": []
    },
    {
      "source": [
        "We then combine these pipelines into a [`ColumnTransformer()`](https://scikit-learn.org/stable/modules/generated/sklearn.compose.ColumnTransformer.html), which we add to a final pipeline with the classification model we want to use."
      ],
      "metadata": {
        "id": "f44a13a3-4cb0-4a51-b83c-8106c1c2d9fc"
      },
      "id": "f44a13a3-4cb0-4a51-b83c-8106c1c2d9fc",
      "cell_type": "markdown"
    },
    {
      "source": [
        "# Initialize a ColumnTransformer\n",
        "preprocessor = ColumnTransformer(transformers=[\n",
        "    ('num', numeric_transformer, numeric_variables),\n",
        "    ('cat', categorical_transformer, categorical_variables)\n",
        "])\n",
        "\n",
        "# Add the transformer to a pipeline with our model\n",
        "clf = Pipeline(steps=[\n",
        "    ('preprocessor', preprocessor),\n",
        "    ('classifier', KNeighborsClassifier())\n",
        "])\n"
      ],
      "metadata": {
        "executionTime": 0,
        "lastSuccessfullyExecutedCode": "# Initialize a ColumnTransformer\npreprocessor = ColumnTransformer(\n    transformers=[\n        (\"num\", numeric_transformer, numeric_variables),\n        (\"cat\", categorical_transformer, categorical_variables)\n    ]\n)\n\n# Add the transformer to a pipeline with our model\nclf = Pipeline(\n    steps=[(\"preprocessor\", preprocessor), (\"classifier\", KNeighborsClassifier())]\n)",
        "id": "3fb4e259-5876-4f38-958e-e824aa6d0fc0"
      },
      "id": "3fb4e259-5876-4f38-958e-e824aa6d0fc0",
      "cell_type": "code",
      "execution_count": 20,
      "outputs": []
    },
    {
      "source": [
        "## Training our model\n",
        "We train our model by fitting the pipeline to the training data and then creating our predictions with the test data."
      ],
      "metadata": {
        "id": "0a1213b0-02df-42e5-a6dc-8f3c2782e5b6"
      },
      "id": "0a1213b0-02df-42e5-a6dc-8f3c2782e5b6",
      "cell_type": "markdown"
    },
    {
      "source": [
        "# Train the classifier on the train set\n",
        "clf.fit(X_train, y_train)\n",
        "\n",
        "# Predict the outcomes on the test set\n",
        "y_pred = clf.predict(X_test)"
      ],
      "metadata": {
        "executionTime": 38,
        "lastSuccessfullyExecutedCode": "# Train the classifier on the train set\nclf.fit(X_train, y_train)\n\n# Predict the outcomes on the test set\ny_pred = clf.predict(X_test)",
        "id": "989f17f9-0e3f-415b-8387-c8cd2a41b30d"
      },
      "id": "989f17f9-0e3f-415b-8387-c8cd2a41b30d",
      "cell_type": "code",
      "execution_count": 23,
      "outputs": []
    },
    {
      "source": [
        "## Evaluating our model\n",
        "Finally, we calculate the accuracy of our model, as well as print a confusion matrix."
      ],
      "metadata": {
        "id": "df46894e-86a6-4a1e-925c-c77dfdec656a"
      },
      "id": "df46894e-86a6-4a1e-925c-c77dfdec656a",
      "cell_type": "markdown"
    },
    {
      "source": [
        "# Calculate and print the accuracy\n",
        "print(\"Accuracy: \", accuracy_score(y_test, y_pred))"
      ],
      "metadata": {
        "executionTime": 25,
        "lastSuccessfullyExecutedCode": "# Calculate and print the accuracy\naccuracy = accuracy_score(y_test, y_pred)\nprint(\"Accuracy:\", accuracy)",
        "id": "17a56e8a-3587-4a51-a1aa-70f8a9083d80",
        "colab": {
          "base_uri": "https://localhost:8080/"
        },
        "outputId": "a03bd837-786a-408e-f2f2-19a6ce2bf5a1"
      },
      "id": "17a56e8a-3587-4a51-a1aa-70f8a9083d80",
      "cell_type": "code",
      "execution_count": 27,
      "outputs": [
        {
          "output_type": "stream",
          "name": "stdout",
          "text": [
            "Accuracy:  0.7839484055893945\n"
          ]
        }
      ]
    },
    {
      "source": [
        "# Create and display the confusion matrix\n",
        "ConfusionMatrixDisplay.from_predictions(y_test, y_pred)\n",
        "plt.show()"
      ],
      "metadata": {
        "executionTime": 140,
        "lastSuccessfullyExecutedCode": "# Create and siplay the confusion matrix\nConfusionMatrixDisplay.from_predictions(y_test, y_pred)\nplt.show()",
        "id": "8cc0f369-f64d-461a-9f3d-df7140ac7961",
        "colab": {
          "base_uri": "https://localhost:8080/",
          "height": 279
        },
        "outputId": "898bfabb-b7a0-4ee6-b379-8bb50cd92b83"
      },
      "id": "8cc0f369-f64d-461a-9f3d-df7140ac7961",
      "cell_type": "code",
      "execution_count": 29,
      "outputs": [
        {
          "output_type": "display_data",
          "data": {
            "text/plain": [
              "<Figure size 432x288 with 2 Axes>"
            ],
            "image/png": "[encoded data removed]"
          },
          "metadata": {
            "needs_background": "light"
          }
        }
      ]
    }
  ],
  "metadata": {
    "language_info": {
      "name": "python",
      "version": "3.8.10",
      "mimetype": "text/x-python",
      "codemirror_mode": {
        "name": "ipython",
        "version": 3
      },
      "pygments_lexer": "ipython3",
      "nbconvert_exporter": "python",
      "file_extension": ".py"
    },
    "kernelspec": {
      "display_name": "Python 3 (ipykernel)",
      "language": "python",
      "name": "python3"
    },
    "editor": "DataCamp Workspace",
    "colab": {
      "provenance": [],
      "include_colab_link": true
    }
  },
  "nbformat": 4,
  "nbformat_minor": 5
}